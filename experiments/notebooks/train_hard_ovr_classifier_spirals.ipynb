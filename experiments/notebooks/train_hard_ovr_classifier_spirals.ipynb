{
 "cells": [
  {
   "cell_type": "code",
   "execution_count": null,
   "metadata": {},
   "outputs": [],
   "source": [
    "%load_ext autoreload\n",
    "%autoreload 2"
   ]
  },
  {
   "cell_type": "code",
   "execution_count": null,
   "metadata": {},
   "outputs": [],
   "source": [
    "import os\n",
    "import logging\n",
    "from functools import partial\n",
    "\n",
    "import numpy as np\n",
    "import jax\n",
    "import jax.numpy as jnp\n",
    "from jax import random\n",
    "import wandb\n",
    "import matplotlib\n",
    "import matplotlib.pyplot as plt\n",
    "\n",
    "import src.data\n",
    "from src.models import make_Hard_OvR_Ens_loss as make_loss\n",
    "from src.models import make_Hard_OvR_Ens_toy_plots as make_plots\n",
    "from src.data import NumpyLoader\n",
    "from src.utils.training import setup_training, train_loop\n",
    "from experiments.configs.spirals_hard_ovr_classification import get_config"
   ]
  },
  {
   "cell_type": "code",
   "execution_count": null,
   "metadata": {},
   "outputs": [],
   "source": [
    "os.environ['WANDB_NOTEBOOK_NAME'] = 'train_hard_ivr_classifier_spirals.ipynb'\n",
    "# ^ W&B doesn't know how to handle VS Code notebooks.\n",
    "\n",
    "wandb.login()"
   ]
  },
  {
   "cell_type": "code",
   "execution_count": null,
   "metadata": {},
   "outputs": [],
   "source": [
    "rng = random.PRNGKey(0)"
   ]
  },
  {
   "cell_type": "code",
   "execution_count": null,
   "metadata": {},
   "outputs": [],
   "source": [
    "config = get_config()"
   ]
  },
  {
   "cell_type": "code",
   "execution_count": null,
   "metadata": {},
   "outputs": [],
   "source": [
    "data_gen_fn = getattr(src.data, config.dataset_name)\n",
    "train_dataset, test_dataset, val_dataset = data_gen_fn(**config.dataset.to_dict())\n",
    "train_loader = NumpyLoader(train_dataset, config.batch_size)\n",
    "val_loader = NumpyLoader(val_dataset, config.batch_size)\n",
    "test_loader = NumpyLoader(test_dataset, config.batch_size)"
   ]
  },
  {
   "cell_type": "code",
   "execution_count": null,
   "metadata": {},
   "outputs": [],
   "source": [
    "X_train, y_train = zip(*train_loader.dataset)\n",
    "X_train, y_train = jnp.array(X_train), jnp.array(y_train)\n",
    "\n",
    "for i in range(config.n_classes):\n",
    "    idxs = (y_train == i)\n",
    "\n",
    "    plt.plot(X_train[idxs, 0], X_train[idxs, 1], '.', c=f'C{i}', alpha=1, ms=1)"
   ]
  },
  {
   "cell_type": "code",
   "execution_count": null,
   "metadata": {},
   "outputs": [],
   "source": [
    "setup_rng, rng = random.split(rng)\n",
    "init_x = train_dataset[0][0]\n",
    "init_y = train_dataset[0][1]\n",
    "\n",
    "model, state = setup_training(config, setup_rng, init_x, init_y)"
   ]
  },
  {
   "cell_type": "code",
   "execution_count": null,
   "metadata": {},
   "outputs": [],
   "source": [
    "state, best_state = train_loop(\n",
    "    model, state, config, rng, make_loss, make_loss, train_loader, val_loader,\n",
    "    # test_loader,\n",
    "    wandb_kwargs={\n",
    "        'mode': 'offline',\n",
    "        # 'notes': '',\n",
    "    },\n",
    "    plot_fn=make_plots\n",
    ")"
   ]
  },
  {
   "cell_type": "code",
   "execution_count": null,
   "metadata": {},
   "outputs": [],
   "source": []
  },
  {
   "cell_type": "markdown",
   "metadata": {},
   "source": [
    "## Paper plot"
   ]
  },
  {
   "cell_type": "code",
   "execution_count": null,
   "metadata": {},
   "outputs": [],
   "source": [
    "text_width = 6.75133 # in  --> Confirmed with template explanation\n",
    "line_width = 3.25063\n",
    "dpi = 200\n",
    "\n",
    "fs_m1 = 7  # for figure ticks\n",
    "fs = 8  # for regular figure text\n",
    "fs_p1 = 9 #  figure titles\n",
    "\n",
    "matplotlib.rc('font', size=fs)          # controls default text sizes\n",
    "matplotlib.rc('axes', titlesize=fs)     # fontsize of the axes title\n",
    "matplotlib.rc('axes', labelsize=fs)    # fontsize of the x and y labels\n",
    "matplotlib.rc('xtick', labelsize=fs_m1)    # fontsize of the tick labels\n",
    "matplotlib.rc('ytick', labelsize=fs_m1)    # fontsize of the tick labels\n",
    "matplotlib.rc('legend', fontsize=fs_m1)    # legend fontsize\n",
    "matplotlib.rc('figure', titlesize=fs_p1)  # fontsize of the figure title\n",
    "\n",
    "\n",
    "matplotlib.rc('font', **{'family':'serif', 'serif': ['Palatino']})\n",
    "matplotlib.rc('text', usetex=True)\n",
    "matplotlib.rcParams['text.latex.preamble']=[r\"\\usepackage{amsmath}\"]"
   ]
  },
  {
   "cell_type": "code",
   "execution_count": null,
   "metadata": {},
   "outputs": [],
   "source": [
    "fig, axs = plt.subplots(1, 5, figsize=(text_width, text_width/4.6), dpi=dpi, sharey=True, sharex=True, layout='tight')\n",
    "\n",
    "hard_ovr_params, hard_ovr_model_state = best_state.params, best_state.model_state\n",
    "\n",
    "n_class = int(y_train.max()) + 1\n",
    "\n",
    "# hard_ovr preds\n",
    "h = .05  # step size in the mesh\n",
    "# create a mesh to plot in\n",
    "x_min, x_max = X_train[:, 0].min() * 1.25, X_train[:, 0].max() * 1.25\n",
    "y_min, y_max = X_train[:, 1].min() * 1.25, X_train[:, 1].max() * 1.25\n",
    "xx, yy = np.meshgrid(np.arange(x_min, x_max, h),\n",
    "                        np.arange(y_min, y_max, h))\n",
    "xs = np.c_[xx.ravel(), yy.ravel()]\n",
    "\n",
    "pred_fun = partial(\n",
    "    model.apply,\n",
    "    {\"params\": hard_ovr_params, **hard_ovr_model_state},\n",
    "    train=False, return_ens_preds=True, β=best_state.β, hard_pred = True,\n",
    "    method=model.pred\n",
    ")\n",
    "\n",
    "_, ens_preds = jax.vmap(\n",
    "    pred_fun, out_axes=(0, 1), in_axes=(0,), axis_name=\"batch\"\n",
    ")(xs)\n",
    "\n",
    "\n",
    "\n",
    "colormaps = ['Blues', 'Oranges', 'Greens', 'Reds', 'Purples']\n",
    "\n",
    "for j in range(ens_preds.shape[0]):\n",
    "    preds = ens_preds[:j+1].prod(axis=0)\n",
    "\n",
    "    for i in range(n_class):\n",
    "        f = preds[:, i].reshape(xx.shape)\n",
    "        step = 0.05\n",
    "        max = np.amax(f)\n",
    "        min = np.amin(f)\n",
    "        levels = np.arange(min, max, step) + step\n",
    "        axs[j].contourf(xx, yy, f, levels, alpha=0.25, cmap=colormaps[i], antialiased=True)\n",
    "\n",
    "    # for i in range(depth + 1):\n",
    "    #     axs[j].contour(xx, yy, ens_preds[:, i, 0].reshape(xx.shape), cmap=plt.cm.gray, levels=[.5], alpha=0.3)\n",
    "\n",
    "    markers = ['o', 'v', 's', 'P', 'X']\n",
    "    for i in range(n_class):\n",
    "        idxs = (y_train == i)\n",
    "        axs[j].plot(X_train[idxs, 0], X_train[idxs, 1], markers[0], c=f'C{i}', alpha=1, ms=0.1)\n",
    "    axs[j].tick_params(bottom=False, top=False, left=False, right=False, labelbottom=False, labelleft=False)\n",
    "\n",
    "plt.savefig('spiral_evolution.pdf', dpi=dpi, bbox_inches='tight')    "
   ]
  },
  {
   "cell_type": "code",
   "execution_count": null,
   "metadata": {},
   "outputs": [],
   "source": []
  }
 ],
 "metadata": {
  "interpreter": {
   "hash": "5f1c3e72c33e9d599052a4f04c6971142100cc706e19ec52aa01eeb819b5a8e9"
  },
  "kernelspec": {
   "display_name": "Python 3.9.12 ('any-poe')",
   "language": "python",
   "name": "python3"
  },
  "language_info": {
   "codemirror_mode": {
    "name": "ipython",
    "version": 3
   },
   "file_extension": ".py",
   "mimetype": "text/x-python",
   "name": "python",
   "nbconvert_exporter": "python",
   "pygments_lexer": "ipython3",
   "version": "3.9.13"
  },
  "orig_nbformat": 4
 },
 "nbformat": 4,
 "nbformat_minor": 2
}
