{
 "cells": [
  {
   "cell_type": "code",
   "execution_count": null,
   "metadata": {},
   "outputs": [],
   "source": [
    "%load_ext autoreload\n",
    "%autoreload 2"
   ]
  },
  {
   "cell_type": "code",
   "execution_count": null,
   "metadata": {},
   "outputs": [],
   "source": [
    "import os\n",
    "import logging\n",
    "from functools import partial\n",
    "\n",
    "import jax\n",
    "from jax import random\n",
    "from jax import numpy as jnp\n",
    "import wandb\n",
    "import matplotlib\n",
    "import matplotlib.pyplot as plt\n",
    "\n",
    "from src.models import make_PoG_Ens_loss as make_loss\n",
    "from src.models import make_PoG_plots as make_plots\n",
    "import src.data\n",
    "from src.data import NumpyLoader\n",
    "from src.utils.training import setup_training, train_loop\n",
    "from experiments.configs.toy_pog_ens import get_config\n",
    "from src.models.pog import calculate_pog_loc_scale"
   ]
  },
  {
   "cell_type": "code",
   "execution_count": null,
   "metadata": {},
   "outputs": [],
   "source": [
    "os.environ['WANDB_NOTEBOOK_NAME'] = 'train_pon_ens.ipynb'\n",
    "# ^ W&B doesn't know how to handle VS Code notebooks.\n",
    "\n",
    "wandb.login()"
   ]
  },
  {
   "cell_type": "code",
   "execution_count": null,
   "metadata": {},
   "outputs": [],
   "source": [
    "rng = random.PRNGKey(0)"
   ]
  },
  {
   "cell_type": "code",
   "execution_count": null,
   "metadata": {},
   "outputs": [],
   "source": [
    "config = get_config()"
   ]
  },
  {
   "cell_type": "code",
   "execution_count": null,
   "metadata": {},
   "outputs": [],
   "source": [
    "data_gen_fn = getattr(src.data, config.dataset_name)\n",
    "train_dataset, test_dataset, val_dataset = data_gen_fn(**config.dataset.to_dict())\n",
    "train_loader = NumpyLoader(train_dataset, config.batch_size)\n",
    "val_loader = NumpyLoader(val_dataset, config.batch_size)\n",
    "test_loader = NumpyLoader(test_dataset, config.batch_size)"
   ]
  },
  {
   "cell_type": "code",
   "execution_count": null,
   "metadata": {},
   "outputs": [],
   "source": [
    "setup_rng, rng = random.split(rng)\n",
    "init_x = train_dataset[0][0]\n",
    "init_y = train_dataset[0][1]\n",
    "\n",
    "model, state = setup_training(config, setup_rng, init_x, init_y)"
   ]
  },
  {
   "cell_type": "code",
   "execution_count": null,
   "metadata": {},
   "outputs": [],
   "source": [
    "state = train_loop(\n",
    "    model, state, config, rng, make_loss, make_loss, train_loader, val_loader,\n",
    "    # test_loader,\n",
    "    wandb_kwargs={\n",
    "        'mode': 'offline',\n",
    "        # 'notes': '',\n",
    "    },\n",
    "    plot_fn=make_plots,\n",
    ")"
   ]
  },
  {
   "cell_type": "code",
   "execution_count": null,
   "metadata": {},
   "outputs": [],
   "source": []
  },
  {
   "cell_type": "markdown",
   "metadata": {},
   "source": [
    "## Paper Plots"
   ]
  },
  {
   "cell_type": "code",
   "execution_count": null,
   "metadata": {},
   "outputs": [],
   "source": [
    "text_width = 6.75133 # in  --> Confirmed with template explanation\n",
    "line_width = 3.25063\n",
    "dpi = 400\n",
    "\n",
    "fs_m1 = 7  # for figure ticks\n",
    "fs = 8  # for regular figure text\n",
    "fs_p1 = 9 #  figure titles\n",
    "\n",
    "matplotlib.rc('font', size=fs)          # controls default text sizes\n",
    "matplotlib.rc('axes', titlesize=fs)     # fontsize of the axes title\n",
    "matplotlib.rc('axes', labelsize=fs)    # fontsize of the x and y labels\n",
    "matplotlib.rc('xtick', labelsize=fs_m1)    # fontsize of the tick labels\n",
    "matplotlib.rc('ytick', labelsize=fs_m1)    # fontsize of the tick labels\n",
    "matplotlib.rc('legend', fontsize=fs_m1)    # legend fontsize\n",
    "matplotlib.rc('figure', titlesize=fs_p1)  # fontsize of the figure title\n",
    "\n",
    "\n",
    "matplotlib.rc('font', **{'family':'serif', 'serif': ['Palatino']})\n",
    "matplotlib.rc('text', usetex=True)\n",
    "matplotlib.rcParams['text.latex.preamble']=[r\"\\usepackage{amsmath}\"]"
   ]
  },
  {
   "cell_type": "code",
   "execution_count": null,
   "metadata": {},
   "outputs": [],
   "source": [
    "xs = jnp.linspace(-2.25, 2.25, num=501)\n",
    "\n",
    "# pog preds\n",
    "pred_fun = partial(\n",
    "    model.apply,\n",
    "    {\"params\": state.params, **state.model_state},\n",
    "    train=False, return_ens_preds=True,\n",
    "    method=model.pred\n",
    ")\n",
    "_, (locs, scales) = jax.vmap(\n",
    "    pred_fun, out_axes=(0, 1), in_axes=(0,), axis_name=\"batch\"\n",
    ")(xs.reshape(-1, 1))\n",
    "\n",
    "X_train, y_train = list(zip(*train_loader.dataset))"
   ]
  },
  {
   "cell_type": "code",
   "execution_count": null,
   "metadata": {},
   "outputs": [],
   "source": [
    "fig, axs = plt.subplots(2, 5, figsize=(text_width, text_width/2.4), dpi=dpi, sharey=True, sharex=True, layout='tight')\n",
    "\n",
    "ORDER = [jnp.array([0, 3, 2, 4, 1]), jnp.array([4, 3, 2, 1, 0])]\n",
    "\n",
    "for r, axrow in enumerate(axs):\n",
    "    for c, ax in enumerate(axrow):\n",
    "        ax.scatter(X_train, y_train, c='k', s=1, lw=0.5, alpha=0.5)\n",
    "\n",
    "        for j in range(c + 2, config.model.size):\n",
    "            ax.plot(xs, locs[ORDER[r][j]] + scales[ORDER[r][j]], '--', c=f'C{ORDER[r][j] + 2}', alpha=0.4, lw=0.4)\n",
    "            ax.plot(xs, locs[ORDER[r][j]] - scales[ORDER[r][j]], '--', c=f'C{ORDER[r][j] + 2}', alpha=0.4, lw=0.4)\n",
    "\n",
    "        if c + 1 < len(axrow):\n",
    "            ax.fill_between(\n",
    "                xs,\n",
    "                locs[ORDER[r][c+1], :, 0] - scales[ORDER[r][c+1], :, 0],\n",
    "                locs[ORDER[r][c+1], :, 0] + scales[ORDER[r][c+1], :, 0],\n",
    "                color='C1', alpha=0.15, lw=0.1\n",
    "            )\n",
    "\n",
    "        loc, scale = calculate_pog_loc_scale(locs[ORDER[r][:c+1], :, 0], scales[ORDER[r][:c+1], :, 0])\n",
    "        ax.plot(xs, loc, c='C0', lw=1, alpha=0.5)\n",
    "        ax.fill_between(xs, loc - scale, loc + scale, color='C0', alpha=0.4, lw=0.1)\n",
    "\n",
    "        ax.set_ylim(-2.25, 2.25)\n",
    "        ax.set_xlim(-2.25, 2.25)\n",
    "        ax.tick_params(bottom=False, top=False, left=False, right=False, labelbottom=False, labelleft=False)\n",
    "        # ax.grid(0.3)\n",
    "\n",
    "plt.savefig('toy_evolution.pdf', dpi=dpi, bbox_inches='tight')"
   ]
  },
  {
   "cell_type": "code",
   "execution_count": null,
   "metadata": {},
   "outputs": [],
   "source": []
  }
 ],
 "metadata": {
  "interpreter": {
   "hash": "5f1c3e72c33e9d599052a4f04c6971142100cc706e19ec52aa01eeb819b5a8e9"
  },
  "kernelspec": {
   "display_name": "Python 3.9.12 ('any-poe')",
   "language": "python",
   "name": "python3"
  },
  "language_info": {
   "codemirror_mode": {
    "name": "ipython",
    "version": 3
   },
   "file_extension": ".py",
   "mimetype": "text/x-python",
   "name": "python",
   "nbconvert_exporter": "python",
   "pygments_lexer": "ipython3",
   "version": "3.9.13"
  },
  "orig_nbformat": 4
 },
 "nbformat": 4,
 "nbformat_minor": 2
}
